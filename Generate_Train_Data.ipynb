{
 "cells": [
  {
   "cell_type": "code",
   "execution_count": 6,
   "metadata": {},
   "outputs": [],
   "source": [
    "import numpy as np\n",
    "import matplotlib\n",
    "import random\n",
    "import math\n",
    "import csv"
   ]
  },
  {
   "cell_type": "code",
   "execution_count": 7,
   "metadata": {},
   "outputs": [],
   "source": [
    "num_generate = 16 * 40000\n",
    "\n",
    "\n",
    "#declare some variables\n",
    "#min and max range of ages\n",
    "min_age = 18\n",
    "max_age = 100\n",
    "\n",
    "age_mean = (max_age-min_age)//2\n",
    "age_stddev = (max_age-min_age) // 6\n",
    "\n",
    "#height parameters in inches\n",
    "min_height = 44\n",
    "max_height = 90\n",
    "\n",
    "height_mean = (max_height-min_height)//2\n",
    "height_stddev = (max_height-min_height) // 4\n",
    "\n",
    "#possible sex (male and female)\n",
    "sex = ['Male','Female']\n",
    "\n",
    "#possible races\n",
    "races = ['Teal', 'Blue', 'Purple', 'Green']\n",
    "\n",
    "#normal heartrates are aroung 60-100 so we will allow some abnormalitites to exist here but are rare\n",
    "min_resting_heartrate = 45\n",
    "max_resting_heartrate = 115\n",
    "\n",
    "#these are the normal values - higher than this and the patients blood pressure is elevated\n",
    "min_systolic_blood_pressure = 100\n",
    "max_systolic_blood_pressure = 140\n",
    "min_diastolic_blood_pressure = 60\n",
    "max_diastolic_blood_pressure = 80\n",
    "\n",
    "#normal values for blood sugar mg/dL\n",
    "min_blood_sugar = 50\n",
    "max_blood_sugar = 90\n",
    "\n",
    "#weight parameters\n",
    "min_weight = 85\n",
    "max_weight = 400"
   ]
  },
  {
   "cell_type": "code",
   "execution_count": 8,
   "metadata": {},
   "outputs": [],
   "source": [
    "#actually generate data\n",
    "people_generated = []\n",
    "for i in range(0,num_generate):\n",
    "    people_generated.append({})\n",
    "    people_generated[i][\"age\"] = abs(np.random.normal(age_mean,age_stddev))\n",
    "    if people_generated[i][\"age\"] > max_age:\n",
    "        people_generated[i][\"age\"] = age_mean\n",
    "    people_generated[i][\"sex\"] = random.randint(0,1)\n",
    "    people_generated[i][\"race\"] = random.randint(0,4)\n",
    "    people_generated[i][\"height\"] = ((-(1/125)*(people_generated[i][\"age\"])*(people_generated[i][\"age\"]-max_age)) + min_height) - random.randint(0,5) * people_generated[i][\"sex\"] + (random.randint(0,8) * people_generated[i][\"race\"] // 2)\n",
    "    people_generated[i][\"resting_heartrate\"] = ((-(1/2)*people_generated[i][\"age\"] + max_age/2) - random.randint(0,5)*people_generated[i][\"sex\"] + random.randint(0,6) * (people_generated[i][\"race\"] % 2)) + min_resting_heartrate\n",
    "    people_generated[i][\"weight\"] = (people_generated[i][\"height\"]/2) + random.randint(0,100) * people_generated[i][\"sex\"] + random.randint(0,25) * people_generated[i][\"race\"] + min_weight\n",
    "    people_generated[i][\"systolic_blood_pressure\"] = ((-(1/5)*people_generated[i][\"age\"] + max_age/5) + (1/7*people_generated[i][\"weight\"])- random.randint(0,5)*people_generated[i][\"sex\"] + random.randint(0,6) * (people_generated[i][\"race\"] % 2))+min_systolic_blood_pressure\n",
    "    people_generated[i][\"diastolic_blood_pressure\"] = ((-(1/6)*people_generated[i][\"age\"] + max_age/6)+ (1/7*people_generated[i][\"weight\"])- random.randint(0,5)*people_generated[i][\"sex\"] + random.randint(0,6) * (people_generated[i][\"race\"] % 2))+min_diastolic_blood_pressure\n",
    "    people_generated[i][\"blood_sugar\"] = (people_generated[i][\"weight\"]/5) - (people_generated[i][\"height\"]/6) + min_blood_sugar"
   ]
  },
  {
   "cell_type": "code",
   "execution_count": 9,
   "metadata": {},
   "outputs": [],
   "source": [
    "for i in range(0, num_generate):\n",
    "    p = people_generated[i]\n",
    "    p[\"age\"] = (p[\"age\"] - min_age) / (max_age - min_age)\n",
    "    p[\"race_teal\"] = 1 if p[\"race\"] == 0 else 0\n",
    "    p[\"race_blue\"] = 1 if p[\"race\"] == 1 else 0\n",
    "    p[\"race_purple\"] = 1 if p[\"race\"] == 2 else 0\n",
    "    p[\"race_green\"] = 1 if p[\"race\"] == 3 else 0\n",
    "    p[\"height\"] = (p[\"height\"] - min_height) / (max_height - min_height)\n",
    "    p[\"weight\"] = (p[\"weight\"] - min_weight) / (max_weight - min_weight)\n",
    "    p[\"resting_heartrate\"] = (p[\"resting_heartrate\"] - min_resting_heartrate) / (max_resting_heartrate - min_resting_heartrate)\n",
    "    p[\"systolic_blood_pressure\"] = (p[\"systolic_blood_pressure\"] - min_systolic_blood_pressure) / (max_systolic_blood_pressure - min_systolic_blood_pressure)\n",
    "    p[\"diastolic_blood_pressure\"] = (p[\"diastolic_blood_pressure\"] - min_diastolic_blood_pressure) / (max_diastolic_blood_pressure - min_diastolic_blood_pressure)\n",
    "    p[\"blood_sugar\"] = (p[\"blood_sugar\"] - min_blood_sugar) / (max_blood_sugar - min_blood_sugar)\n",
    "    \n",
    "    del p[\"race\"]"
   ]
  },
  {
   "cell_type": "code",
   "execution_count": 10,
   "metadata": {},
   "outputs": [],
   "source": [
    "#write data to CSV for future use\n",
    "with open('manually_generated_data.csv', mode='w') as csv_file:\n",
    "    fieldnames = ['age', 'height', 'sex', 'race_teal', 'race_blue', 'race_purple', 'race_green', 'resting_heartrate', 'systolic_blood_pressure', 'diastolic_blood_pressure', 'weight', 'blood_sugar']\n",
    "    writer = csv.DictWriter(csv_file, fieldnames=fieldnames)\n",
    "\n",
    "    writer.writeheader()\n",
    "    for i in people_generated:\n",
    "        writer.writerow(i)"
   ]
  },
  {
   "cell_type": "code",
   "execution_count": 109,
   "metadata": {},
   "outputs": [],
   "source": [
    "#make some charts to display trends"
   ]
  },
  {
   "cell_type": "code",
   "execution_count": null,
   "metadata": {},
   "outputs": [],
   "source": []
  }
 ],
 "metadata": {
  "kernelspec": {
   "display_name": "Python 3",
   "language": "python",
   "name": "python3"
  },
  "language_info": {
   "codemirror_mode": {
    "name": "ipython",
    "version": 3
   },
   "file_extension": ".py",
   "mimetype": "text/x-python",
   "name": "python",
   "nbconvert_exporter": "python",
   "pygments_lexer": "ipython3",
   "version": "3.6.9"
  }
 },
 "nbformat": 4,
 "nbformat_minor": 4
}
