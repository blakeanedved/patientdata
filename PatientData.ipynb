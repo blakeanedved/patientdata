{
 "cells": [
  {
   "cell_type": "markdown",
   "metadata": {},
   "source": [
    "### Data fields\n",
    "- Age (years)\n",
    "- Height (in)\n",
    "- Weight (lbs)\n",
    "- Sex\n",
    "- Race (4)\n",
    "- Resting HR (bpm)\n",
    "- Systolic BP\n",
    "- Diastolic BP\n",
    "- Blood sugar (mg/dL)"
   ]
  },
  {
   "cell_type": "code",
   "execution_count": 14,
   "metadata": {},
   "outputs": [],
   "source": [
    "# Import PyTorch dependencies\n",
    "\n",
    "import torch\n",
    "import torch.nn as nn\n",
    "import torch.optim as optim\n",
    "import torch.utils.data as tud\n",
    "import torchvision\n",
    "\n",
    "import numpy as np\n",
    "import pandas as pd\n",
    "import matplotlib.pyplot as plt\n",
    "\n",
    "import itertools\n",
    "\n",
    "import math"
   ]
  },
  {
   "cell_type": "markdown",
   "metadata": {},
   "source": [
    "### Global variables"
   ]
  },
  {
   "cell_type": "code",
   "execution_count": 15,
   "metadata": {},
   "outputs": [],
   "source": [
    "BATCH_SIZE = 64\n",
    "NUM_PARAMETERS = 12\n",
    "\n",
    "DISCRIMINATOR_LAYERS = [\n",
    "    NUM_PARAMETERS, 30, 30, 20, 10, 5, 2\n",
    "]\n",
    "\n",
    "GENERATOR_DIM = 40\n",
    "\n",
    "GENERATOR_LAYERS = [\n",
    "    GENERATOR_DIM, 20, 30, 20, NUM_PARAMETERS\n",
    "]\n",
    "\n",
    "DISCRIMINATOR_LEARNING_RATE = 0.002\n",
    "GENERATOR_LEARNING_RATE     = 0.002"
   ]
  },
  {
   "cell_type": "markdown",
   "metadata": {},
   "source": [
    "### Helper functions and variables"
   ]
  },
  {
   "cell_type": "code",
   "execution_count": 16,
   "metadata": {},
   "outputs": [],
   "source": [
    "#declare some variables\n",
    "#min and max range of ages\n",
    "min_age = 18\n",
    "max_age = 100\n",
    "\n",
    "age_mean = (max_age-min_age)//2\n",
    "age_stddev = (max_age-min_age) // 6\n",
    "\n",
    "#height parameters in inches\n",
    "min_height = 44\n",
    "max_height = 90\n",
    "\n",
    "height_mean = (max_height-min_height)//2\n",
    "height_stddev = (max_height-min_height) // 4\n",
    "\n",
    "#possible sex (male and female)\n",
    "sex = ['Male','Female']\n",
    "\n",
    "#possible races\n",
    "races = ['Teal', 'Blue', 'Purple', 'Green']\n",
    "\n",
    "#normal heartrates are aroung 60-100 so we will allow some abnormalitites to exist here but are rare\n",
    "min_resting_heartrate = 45\n",
    "max_resting_heartrate = 115\n",
    "\n",
    "min_systolic_blood_pressure = 100\n",
    "max_systolic_blood_pressure = 140\n",
    "min_diastolic_blood_pressure = 60\n",
    "max_diastolic_blood_pressure = 80\n",
    "\n",
    "min_blood_sugar = 50\n",
    "max_blood_sugar = 90\n",
    "\n",
    "min_weight = 85\n",
    "max_weight = 400\n",
    "\n",
    "def tensor_to_person(t):\n",
    "    p = {}\n",
    "    p[\"age\"] = (t[0] * (max_age - min_age) + min_age).item()\n",
    "    p[\"height\"] = (t[1] * (max_height - min_height) + min_height).item()\n",
    "    p[\"sex\"] = 0 if t[2].item() < 0.5 else 1\n",
    "    p[\"race_teal\"] = t[3].item()\n",
    "    p[\"race_blue\"] = t[4].item()\n",
    "    p[\"race_purple\"] = t[5].item()\n",
    "    p[\"race_green\"] = t[6].item()\n",
    "    p[\"resting_heartrate\"] = (t[7] * (max_resting_heartrate - min_resting_heartrate) + min_resting_heartrate).item()\n",
    "    p[\"systolic_blood_pressure\"] = (t[8] * (max_systolic_blood_pressure - min_systolic_blood_pressure) + min_systolic_blood_pressure).item()\n",
    "    p[\"diastolic_blood_pressure\"] = (t[9] * (max_diastolic_blood_pressure - min_diastolic_blood_pressure) + min_diastolic_blood_pressure).item()\n",
    "    p[\"weight\"] = (t[10] * (max_weight - min_weight) + min_weight).item()\n",
    "    p[\"blood_sugar\"] = (t[11] * (max_blood_sugar - min_blood_sugar) + min_blood_sugar).item()\n",
    "    return p"
   ]
  },
  {
   "cell_type": "markdown",
   "metadata": {},
   "source": [
    "### Create a discriminator\n",
    "The discriminator learns to _discriminate_ between fake data, and real data."
   ]
  },
  {
   "cell_type": "code",
   "execution_count": 17,
   "metadata": {},
   "outputs": [],
   "source": [
    "class DiscriminatorModel(nn.Module):\n",
    "    def __init__(self):\n",
    "        super(DiscriminatorModel, self).__init__()\n",
    "        \n",
    "        model_layers = [\n",
    "            [\n",
    "                nn.Linear(DISCRIMINATOR_LAYERS[i], DISCRIMINATOR_LAYERS[i + 1]),\n",
    "                nn.LeakyReLU(negative_slope=0.02)\n",
    "            ] for i in range(len(DISCRIMINATOR_LAYERS) - 2)\n",
    "        ]\n",
    "        model_layers = [x for y in model_layers for x in y]\n",
    "        \n",
    "        self.layers = nn.Sequential(*model_layers)\n",
    "        self.post_layers = nn.Sequential(\n",
    "            nn.Linear(DISCRIMINATOR_LAYERS[-2], DISCRIMINATOR_LAYERS[-1]),\n",
    "            nn.Tanh()\n",
    "        )\n",
    "    \n",
    "    def forward(self, x):\n",
    "        x = self.layers(x)\n",
    "        x = self.post_layers(x)\n",
    "        return x"
   ]
  },
  {
   "cell_type": "markdown",
   "metadata": {},
   "source": [
    "### Create a generator\n",
    "The generator learns to _generate_ \"real\" data from a vector input"
   ]
  },
  {
   "cell_type": "code",
   "execution_count": 18,
   "metadata": {},
   "outputs": [],
   "source": [
    "class GeneratorModel(nn.Module):\n",
    "    def __init__(self):\n",
    "        super(GeneratorModel, self).__init__()\n",
    "        \n",
    "        model_layers = [\n",
    "            [\n",
    "                nn.Linear(GENERATOR_LAYERS[i], GENERATOR_LAYERS[i + 1], bias=False),\n",
    "                nn.Tanh()\n",
    "            ] for i in range(len(GENERATOR_LAYERS) - 2)\n",
    "        ]\n",
    "        model_layers = [x for y in model_layers for x in y]\n",
    "        \n",
    "        self.layers = nn.Sequential(*model_layers)\n",
    "        self.post_layers = nn.Sequential(\n",
    "            nn.Linear(GENERATOR_LAYERS[-2], GENERATOR_LAYERS[-1], bias=False),\n",
    "            nn.PReLU(1)\n",
    "        )\n",
    "        \n",
    "    def forward(self, x):\n",
    "        x = self.layers(x)\n",
    "        x = self.post_layers(x)\n",
    "        return x"
   ]
  },
  {
   "cell_type": "markdown",
   "metadata": {},
   "source": [
    "### Create the torch variables\n",
    "Make the models, optimizers, criterions"
   ]
  },
  {
   "cell_type": "code",
   "execution_count": 19,
   "metadata": {},
   "outputs": [],
   "source": [
    "discriminator = DiscriminatorModel()\n",
    "generator     = GeneratorModel()\n",
    "\n",
    "discriminator_optimizer = optim.SGD(discriminator.parameters(), lr=DISCRIMINATOR_LEARNING_RATE)\n",
    "generator_optimizer     = optim.SGD(generator.parameters(),     lr=GENERATOR_LEARNING_RATE)\n",
    "\n",
    "criterion = nn.MSELoss()"
   ]
  },
  {
   "cell_type": "markdown",
   "metadata": {},
   "source": [
    "### Load the data"
   ]
  },
  {
   "cell_type": "code",
   "execution_count": 20,
   "metadata": {},
   "outputs": [
    {
     "name": "stdout",
     "output_type": "stream",
     "text": [
      "torch.Size([640000, 12])\n"
     ]
    }
   ],
   "source": [
    "man_gen_data = pd.read_csv(\"manually_generated_data.csv\")\n",
    "\n",
    "data_frame = pd.DataFrame(data=man_gen_data)\n",
    "data_frame.columns = [\n",
    "    \"age\",\n",
    "    \"height\",\n",
    "    \"sex\",\n",
    "    \"race_teal\",\n",
    "    \"race_blue\",\n",
    "    \"race_purple\",\n",
    "    \"race_green\",\n",
    "    \"resting_heartrate\",\n",
    "    \"systolic_blood_pressure\",\n",
    "    \"diastolic_blood_pressure\",\n",
    "    \"weight\",\n",
    "    \"blood_sugar\"\n",
    "]\n",
    "\n",
    "data_tensor = torch.tensor(data_frame.values).type(torch.FloatTensor)\n",
    "print(data_tensor.shape)\n",
    "\n",
    "data_loader = tud.DataLoader(\n",
    "    tud.TensorDataset(data_tensor, torch.zeros(len(man_gen_data), 1)),\n",
    "    batch_size = BATCH_SIZE,\n",
    "    shuffle = True\n",
    ")"
   ]
  },
  {
   "cell_type": "markdown",
   "metadata": {},
   "source": [
    "### Set up for training the network"
   ]
  },
  {
   "cell_type": "code",
   "execution_count": 21,
   "metadata": {},
   "outputs": [
    {
     "name": "stdout",
     "output_type": "stream",
     "text": [
      "torch.Size([64, 2])\n",
      "torch.Size([64, 2])\n"
     ]
    }
   ],
   "source": [
    "disc_epochs = 10\n",
    "epochs = 40\n",
    "\n",
    "real_target = torch.tensor([1.0, 0.0]).repeat(BATCH_SIZE, 1)\n",
    "fake_target = torch.tensor([0.0, 1.0]).repeat(BATCH_SIZE, 1)\n",
    "print(real_target.shape)\n",
    "print(fake_target.shape)"
   ]
  },
  {
   "cell_type": "markdown",
   "metadata": {},
   "source": [
    "### Train the discriminator alone\n",
    "This gives the discriminator a head start"
   ]
  },
  {
   "cell_type": "code",
   "execution_count": 22,
   "metadata": {},
   "outputs": [
    {
     "name": "stdout",
     "output_type": "stream",
     "text": [
      "Starting discriminator epoch 1 / 10 ============================================\n",
      "Starting discriminator epoch 2 / 10 ============================================\n",
      "Starting discriminator epoch 3 / 10 ============================================\n",
      "Starting discriminator epoch 4 / 10 ============================================\n",
      "Starting discriminator epoch 5 / 10 ============================================\n",
      "Starting discriminator epoch 6 / 10 ============================================\n",
      "Starting discriminator epoch 7 / 10 ============================================\n",
      "Starting discriminator epoch 8 / 10 ============================================\n",
      "Starting discriminator epoch 9 / 10 ============================================\n",
      "Starting discriminator epoch 10 / 10 ============================================\n"
     ]
    }
   ],
   "source": [
    "for epoch in range(1, disc_epochs + 1):\n",
    "    print(f\"Starting discriminator epoch {epoch} / {disc_epochs} ============================================\")\n",
    "    \n",
    "    for i, (real_input, _) in enumerate(data_loader):\n",
    "        discriminator_optimizer.zero_grad()\n",
    "        \n",
    "        disc_real_output = discriminator(real_input)\n",
    "        real_loss = criterion(disc_real_output, real_target)\n",
    "        \n",
    "        fake_input = torch.randn(BATCH_SIZE, NUM_PARAMETERS)\n",
    "        disc_fake_output = discriminator(fake_input)\n",
    "        fake_loss = criterion(disc_fake_output, fake_target)\n",
    "        \n",
    "        disc_loss = real_loss + fake_loss\n",
    "        disc_loss.backward()\n",
    "        discriminator_optimizer.step()\n",
    "        "
   ]
  },
  {
   "cell_type": "markdown",
   "metadata": {},
   "source": [
    "### Train the discriminator and generator together"
   ]
  },
  {
   "cell_type": "code",
   "execution_count": 23,
   "metadata": {},
   "outputs": [
    {
     "name": "stdout",
     "output_type": "stream",
     "text": [
      "Starting adversarial epoch 1 / 40 ====================================================\n",
      "Starting adversarial epoch 2 / 40 ====================================================\n",
      "Starting adversarial epoch 3 / 40 ====================================================\n",
      "Starting adversarial epoch 4 / 40 ====================================================\n",
      "Starting adversarial epoch 5 / 40 ====================================================\n",
      "Starting adversarial epoch 6 / 40 ====================================================\n",
      "Starting adversarial epoch 7 / 40 ====================================================\n",
      "Starting adversarial epoch 8 / 40 ====================================================\n",
      "Starting adversarial epoch 9 / 40 ====================================================\n",
      "Starting adversarial epoch 10 / 40 ====================================================\n",
      "Starting adversarial epoch 11 / 40 ====================================================\n",
      "Starting adversarial epoch 12 / 40 ====================================================\n",
      "Starting adversarial epoch 13 / 40 ====================================================\n",
      "Starting adversarial epoch 14 / 40 ====================================================\n",
      "Starting adversarial epoch 15 / 40 ====================================================\n",
      "Starting adversarial epoch 16 / 40 ====================================================\n",
      "Starting adversarial epoch 17 / 40 ====================================================\n",
      "Starting adversarial epoch 18 / 40 ====================================================\n",
      "Starting adversarial epoch 19 / 40 ====================================================\n",
      "Starting adversarial epoch 20 / 40 ====================================================\n",
      "Starting adversarial epoch 21 / 40 ====================================================\n",
      "Starting adversarial epoch 22 / 40 ====================================================\n"
     ]
    },
    {
     "ename": "KeyboardInterrupt",
     "evalue": "",
     "output_type": "error",
     "traceback": [
      "\u001b[0;31m---------------------------------------------------------------------------\u001b[0m",
      "\u001b[0;31mKeyboardInterrupt\u001b[0m                         Traceback (most recent call last)",
      "\u001b[0;32m<ipython-input-23-641854484d0b>\u001b[0m in \u001b[0;36m<module>\u001b[0;34m\u001b[0m\n\u001b[1;32m     12\u001b[0m \u001b[0;34m\u001b[0m\u001b[0m\n\u001b[1;32m     13\u001b[0m         \u001b[0mgen_input\u001b[0m \u001b[0;34m=\u001b[0m \u001b[0mtorch\u001b[0m\u001b[0;34m.\u001b[0m\u001b[0mrandn\u001b[0m\u001b[0;34m(\u001b[0m\u001b[0mBATCH_SIZE\u001b[0m\u001b[0;34m,\u001b[0m \u001b[0mGENERATOR_DIM\u001b[0m\u001b[0;34m)\u001b[0m \u001b[0;34m*\u001b[0m \u001b[0;36m10\u001b[0m\u001b[0;34m\u001b[0m\u001b[0;34m\u001b[0m\u001b[0m\n\u001b[0;32m---> 14\u001b[0;31m         \u001b[0mgen_output\u001b[0m \u001b[0;34m=\u001b[0m \u001b[0mgenerator\u001b[0m\u001b[0;34m(\u001b[0m\u001b[0mgen_input\u001b[0m\u001b[0;34m)\u001b[0m\u001b[0;34m\u001b[0m\u001b[0;34m\u001b[0m\u001b[0m\n\u001b[0m\u001b[1;32m     15\u001b[0m         \u001b[0mdisc_output\u001b[0m \u001b[0;34m=\u001b[0m \u001b[0mdiscriminator\u001b[0m\u001b[0;34m(\u001b[0m\u001b[0mgen_output\u001b[0m\u001b[0;34m)\u001b[0m\u001b[0;34m\u001b[0m\u001b[0;34m\u001b[0m\u001b[0m\n\u001b[1;32m     16\u001b[0m         \u001b[0mgen_loss\u001b[0m \u001b[0;34m=\u001b[0m \u001b[0mcriterion\u001b[0m\u001b[0;34m(\u001b[0m\u001b[0mdisc_output\u001b[0m\u001b[0;34m,\u001b[0m \u001b[0mreal_target\u001b[0m\u001b[0;34m)\u001b[0m\u001b[0;34m\u001b[0m\u001b[0;34m\u001b[0m\u001b[0m\n",
      "\u001b[0;32m/usr/local/lib/python3.6/site-packages/torch/nn/modules/module.py\u001b[0m in \u001b[0;36m__call__\u001b[0;34m(self, *input, **kwargs)\u001b[0m\n\u001b[1;32m    545\u001b[0m             \u001b[0mresult\u001b[0m \u001b[0;34m=\u001b[0m \u001b[0mself\u001b[0m\u001b[0;34m.\u001b[0m\u001b[0m_slow_forward\u001b[0m\u001b[0;34m(\u001b[0m\u001b[0;34m*\u001b[0m\u001b[0minput\u001b[0m\u001b[0;34m,\u001b[0m \u001b[0;34m**\u001b[0m\u001b[0mkwargs\u001b[0m\u001b[0;34m)\u001b[0m\u001b[0;34m\u001b[0m\u001b[0;34m\u001b[0m\u001b[0m\n\u001b[1;32m    546\u001b[0m         \u001b[0;32melse\u001b[0m\u001b[0;34m:\u001b[0m\u001b[0;34m\u001b[0m\u001b[0;34m\u001b[0m\u001b[0m\n\u001b[0;32m--> 547\u001b[0;31m             \u001b[0mresult\u001b[0m \u001b[0;34m=\u001b[0m \u001b[0mself\u001b[0m\u001b[0;34m.\u001b[0m\u001b[0mforward\u001b[0m\u001b[0;34m(\u001b[0m\u001b[0;34m*\u001b[0m\u001b[0minput\u001b[0m\u001b[0;34m,\u001b[0m \u001b[0;34m**\u001b[0m\u001b[0mkwargs\u001b[0m\u001b[0;34m)\u001b[0m\u001b[0;34m\u001b[0m\u001b[0;34m\u001b[0m\u001b[0m\n\u001b[0m\u001b[1;32m    548\u001b[0m         \u001b[0;32mfor\u001b[0m \u001b[0mhook\u001b[0m \u001b[0;32min\u001b[0m \u001b[0mself\u001b[0m\u001b[0;34m.\u001b[0m\u001b[0m_forward_hooks\u001b[0m\u001b[0;34m.\u001b[0m\u001b[0mvalues\u001b[0m\u001b[0;34m(\u001b[0m\u001b[0;34m)\u001b[0m\u001b[0;34m:\u001b[0m\u001b[0;34m\u001b[0m\u001b[0;34m\u001b[0m\u001b[0m\n\u001b[1;32m    549\u001b[0m             \u001b[0mhook_result\u001b[0m \u001b[0;34m=\u001b[0m \u001b[0mhook\u001b[0m\u001b[0;34m(\u001b[0m\u001b[0mself\u001b[0m\u001b[0;34m,\u001b[0m \u001b[0minput\u001b[0m\u001b[0;34m,\u001b[0m \u001b[0mresult\u001b[0m\u001b[0;34m)\u001b[0m\u001b[0;34m\u001b[0m\u001b[0;34m\u001b[0m\u001b[0m\n",
      "\u001b[0;32m<ipython-input-18-795423756fcf>\u001b[0m in \u001b[0;36mforward\u001b[0;34m(self, x)\u001b[0m\n\u001b[1;32m     18\u001b[0m \u001b[0;34m\u001b[0m\u001b[0m\n\u001b[1;32m     19\u001b[0m     \u001b[0;32mdef\u001b[0m \u001b[0mforward\u001b[0m\u001b[0;34m(\u001b[0m\u001b[0mself\u001b[0m\u001b[0;34m,\u001b[0m \u001b[0mx\u001b[0m\u001b[0;34m)\u001b[0m\u001b[0;34m:\u001b[0m\u001b[0;34m\u001b[0m\u001b[0;34m\u001b[0m\u001b[0m\n\u001b[0;32m---> 20\u001b[0;31m         \u001b[0mx\u001b[0m \u001b[0;34m=\u001b[0m \u001b[0mself\u001b[0m\u001b[0;34m.\u001b[0m\u001b[0mlayers\u001b[0m\u001b[0;34m(\u001b[0m\u001b[0mx\u001b[0m\u001b[0;34m)\u001b[0m\u001b[0;34m\u001b[0m\u001b[0;34m\u001b[0m\u001b[0m\n\u001b[0m\u001b[1;32m     21\u001b[0m         \u001b[0mx\u001b[0m \u001b[0;34m=\u001b[0m \u001b[0mself\u001b[0m\u001b[0;34m.\u001b[0m\u001b[0mpost_layers\u001b[0m\u001b[0;34m(\u001b[0m\u001b[0mx\u001b[0m\u001b[0;34m)\u001b[0m\u001b[0;34m\u001b[0m\u001b[0;34m\u001b[0m\u001b[0m\n\u001b[1;32m     22\u001b[0m         \u001b[0;32mreturn\u001b[0m \u001b[0mx\u001b[0m\u001b[0;34m\u001b[0m\u001b[0;34m\u001b[0m\u001b[0m\n",
      "\u001b[0;32m/usr/local/lib/python3.6/site-packages/torch/nn/modules/module.py\u001b[0m in \u001b[0;36m__call__\u001b[0;34m(self, *input, **kwargs)\u001b[0m\n\u001b[1;32m    545\u001b[0m             \u001b[0mresult\u001b[0m \u001b[0;34m=\u001b[0m \u001b[0mself\u001b[0m\u001b[0;34m.\u001b[0m\u001b[0m_slow_forward\u001b[0m\u001b[0;34m(\u001b[0m\u001b[0;34m*\u001b[0m\u001b[0minput\u001b[0m\u001b[0;34m,\u001b[0m \u001b[0;34m**\u001b[0m\u001b[0mkwargs\u001b[0m\u001b[0;34m)\u001b[0m\u001b[0;34m\u001b[0m\u001b[0;34m\u001b[0m\u001b[0m\n\u001b[1;32m    546\u001b[0m         \u001b[0;32melse\u001b[0m\u001b[0;34m:\u001b[0m\u001b[0;34m\u001b[0m\u001b[0;34m\u001b[0m\u001b[0m\n\u001b[0;32m--> 547\u001b[0;31m             \u001b[0mresult\u001b[0m \u001b[0;34m=\u001b[0m \u001b[0mself\u001b[0m\u001b[0;34m.\u001b[0m\u001b[0mforward\u001b[0m\u001b[0;34m(\u001b[0m\u001b[0;34m*\u001b[0m\u001b[0minput\u001b[0m\u001b[0;34m,\u001b[0m \u001b[0;34m**\u001b[0m\u001b[0mkwargs\u001b[0m\u001b[0;34m)\u001b[0m\u001b[0;34m\u001b[0m\u001b[0;34m\u001b[0m\u001b[0m\n\u001b[0m\u001b[1;32m    548\u001b[0m         \u001b[0;32mfor\u001b[0m \u001b[0mhook\u001b[0m \u001b[0;32min\u001b[0m \u001b[0mself\u001b[0m\u001b[0;34m.\u001b[0m\u001b[0m_forward_hooks\u001b[0m\u001b[0;34m.\u001b[0m\u001b[0mvalues\u001b[0m\u001b[0;34m(\u001b[0m\u001b[0;34m)\u001b[0m\u001b[0;34m:\u001b[0m\u001b[0;34m\u001b[0m\u001b[0;34m\u001b[0m\u001b[0m\n\u001b[1;32m    549\u001b[0m             \u001b[0mhook_result\u001b[0m \u001b[0;34m=\u001b[0m \u001b[0mhook\u001b[0m\u001b[0;34m(\u001b[0m\u001b[0mself\u001b[0m\u001b[0;34m,\u001b[0m \u001b[0minput\u001b[0m\u001b[0;34m,\u001b[0m \u001b[0mresult\u001b[0m\u001b[0;34m)\u001b[0m\u001b[0;34m\u001b[0m\u001b[0;34m\u001b[0m\u001b[0m\n",
      "\u001b[0;32m/usr/local/lib/python3.6/site-packages/torch/nn/modules/container.py\u001b[0m in \u001b[0;36mforward\u001b[0;34m(self, input)\u001b[0m\n\u001b[1;32m     90\u001b[0m     \u001b[0;32mdef\u001b[0m \u001b[0mforward\u001b[0m\u001b[0;34m(\u001b[0m\u001b[0mself\u001b[0m\u001b[0;34m,\u001b[0m \u001b[0minput\u001b[0m\u001b[0;34m)\u001b[0m\u001b[0;34m:\u001b[0m\u001b[0;34m\u001b[0m\u001b[0;34m\u001b[0m\u001b[0m\n\u001b[1;32m     91\u001b[0m         \u001b[0;32mfor\u001b[0m \u001b[0mmodule\u001b[0m \u001b[0;32min\u001b[0m \u001b[0mself\u001b[0m\u001b[0;34m.\u001b[0m\u001b[0m_modules\u001b[0m\u001b[0;34m.\u001b[0m\u001b[0mvalues\u001b[0m\u001b[0;34m(\u001b[0m\u001b[0;34m)\u001b[0m\u001b[0;34m:\u001b[0m\u001b[0;34m\u001b[0m\u001b[0;34m\u001b[0m\u001b[0m\n\u001b[0;32m---> 92\u001b[0;31m             \u001b[0minput\u001b[0m \u001b[0;34m=\u001b[0m \u001b[0mmodule\u001b[0m\u001b[0;34m(\u001b[0m\u001b[0minput\u001b[0m\u001b[0;34m)\u001b[0m\u001b[0;34m\u001b[0m\u001b[0;34m\u001b[0m\u001b[0m\n\u001b[0m\u001b[1;32m     93\u001b[0m         \u001b[0;32mreturn\u001b[0m \u001b[0minput\u001b[0m\u001b[0;34m\u001b[0m\u001b[0;34m\u001b[0m\u001b[0m\n\u001b[1;32m     94\u001b[0m \u001b[0;34m\u001b[0m\u001b[0m\n",
      "\u001b[0;32m/usr/local/lib/python3.6/site-packages/torch/nn/modules/module.py\u001b[0m in \u001b[0;36m__call__\u001b[0;34m(self, *input, **kwargs)\u001b[0m\n\u001b[1;32m    545\u001b[0m             \u001b[0mresult\u001b[0m \u001b[0;34m=\u001b[0m \u001b[0mself\u001b[0m\u001b[0;34m.\u001b[0m\u001b[0m_slow_forward\u001b[0m\u001b[0;34m(\u001b[0m\u001b[0;34m*\u001b[0m\u001b[0minput\u001b[0m\u001b[0;34m,\u001b[0m \u001b[0;34m**\u001b[0m\u001b[0mkwargs\u001b[0m\u001b[0;34m)\u001b[0m\u001b[0;34m\u001b[0m\u001b[0;34m\u001b[0m\u001b[0m\n\u001b[1;32m    546\u001b[0m         \u001b[0;32melse\u001b[0m\u001b[0;34m:\u001b[0m\u001b[0;34m\u001b[0m\u001b[0;34m\u001b[0m\u001b[0m\n\u001b[0;32m--> 547\u001b[0;31m             \u001b[0mresult\u001b[0m \u001b[0;34m=\u001b[0m \u001b[0mself\u001b[0m\u001b[0;34m.\u001b[0m\u001b[0mforward\u001b[0m\u001b[0;34m(\u001b[0m\u001b[0;34m*\u001b[0m\u001b[0minput\u001b[0m\u001b[0;34m,\u001b[0m \u001b[0;34m**\u001b[0m\u001b[0mkwargs\u001b[0m\u001b[0;34m)\u001b[0m\u001b[0;34m\u001b[0m\u001b[0;34m\u001b[0m\u001b[0m\n\u001b[0m\u001b[1;32m    548\u001b[0m         \u001b[0;32mfor\u001b[0m \u001b[0mhook\u001b[0m \u001b[0;32min\u001b[0m \u001b[0mself\u001b[0m\u001b[0;34m.\u001b[0m\u001b[0m_forward_hooks\u001b[0m\u001b[0;34m.\u001b[0m\u001b[0mvalues\u001b[0m\u001b[0;34m(\u001b[0m\u001b[0;34m)\u001b[0m\u001b[0;34m:\u001b[0m\u001b[0;34m\u001b[0m\u001b[0;34m\u001b[0m\u001b[0m\n\u001b[1;32m    549\u001b[0m             \u001b[0mhook_result\u001b[0m \u001b[0;34m=\u001b[0m \u001b[0mhook\u001b[0m\u001b[0;34m(\u001b[0m\u001b[0mself\u001b[0m\u001b[0;34m,\u001b[0m \u001b[0minput\u001b[0m\u001b[0;34m,\u001b[0m \u001b[0mresult\u001b[0m\u001b[0;34m)\u001b[0m\u001b[0;34m\u001b[0m\u001b[0;34m\u001b[0m\u001b[0m\n",
      "\u001b[0;32m/usr/local/lib/python3.6/site-packages/torch/nn/modules/activation.py\u001b[0m in \u001b[0;36mforward\u001b[0;34m(self, input)\u001b[0m\n\u001b[1;32m    293\u001b[0m \u001b[0;34m\u001b[0m\u001b[0m\n\u001b[1;32m    294\u001b[0m     \u001b[0;32mdef\u001b[0m \u001b[0mforward\u001b[0m\u001b[0;34m(\u001b[0m\u001b[0mself\u001b[0m\u001b[0;34m,\u001b[0m \u001b[0minput\u001b[0m\u001b[0;34m)\u001b[0m\u001b[0;34m:\u001b[0m\u001b[0;34m\u001b[0m\u001b[0;34m\u001b[0m\u001b[0m\n\u001b[0;32m--> 295\u001b[0;31m         \u001b[0;32mreturn\u001b[0m \u001b[0mtorch\u001b[0m\u001b[0;34m.\u001b[0m\u001b[0mtanh\u001b[0m\u001b[0;34m(\u001b[0m\u001b[0minput\u001b[0m\u001b[0;34m)\u001b[0m\u001b[0;34m\u001b[0m\u001b[0;34m\u001b[0m\u001b[0m\n\u001b[0m\u001b[1;32m    296\u001b[0m \u001b[0;34m\u001b[0m\u001b[0m\n\u001b[1;32m    297\u001b[0m \u001b[0;34m\u001b[0m\u001b[0m\n",
      "\u001b[0;31mKeyboardInterrupt\u001b[0m: "
     ]
    }
   ],
   "source": [
    "xval = 0\n",
    "xvals = []\n",
    "disc_losses = []\n",
    "gen_losses = []\n",
    "\n",
    "for epoch in range(1, epochs + 1):\n",
    "    print(f\"Starting adversarial epoch {epoch} / {epochs} ====================================================\")\n",
    "    \n",
    "    for i, (real_input, _) in enumerate(data_loader):\n",
    "        discriminator_optimizer.zero_grad()\n",
    "        generator_optimizer.zero_grad()\n",
    "        \n",
    "        gen_input = torch.randn(BATCH_SIZE, GENERATOR_DIM) * 10\n",
    "        gen_output = generator(gen_input)\n",
    "        disc_output = discriminator(gen_output)\n",
    "        gen_loss = criterion(disc_output, real_target)\n",
    "        \n",
    "        gen_loss.backward()\n",
    "        generator_optimizer.step()\n",
    "                \n",
    "        disc_real_output = discriminator(real_input)\n",
    "        real_loss = criterion(disc_real_output, real_target)\n",
    "        \n",
    "        disc_fake_output = discriminator(generator(gen_input).detach())\n",
    "        fake_loss = criterion(disc_fake_output, fake_target)\n",
    "        \n",
    "        disc_loss = (real_loss + fake_loss) / 2\n",
    "        disc_loss.backward()\n",
    "        discriminator_optimizer.step()\n",
    "        \n",
    "        if i % 1000 == 0:\n",
    "            xvals.append(xval)\n",
    "            xval += 1\n",
    "            \n",
    "            disc_losses.append(disc_loss.item())\n",
    "            gen_losses.append(gen_loss.item())          \n",
    "    "
   ]
  },
  {
   "cell_type": "markdown",
   "metadata": {},
   "source": [
    "### Plot our results"
   ]
  },
  {
   "cell_type": "code",
   "execution_count": 24,
   "metadata": {},
   "outputs": [
    {
     "data": {
      "image/png": "[encoded data removed]",
      "text/plain": [
       "<Figure size 432x288 with 1 Axes>"
      ]
     },
     "metadata": {
      "needs_background": "light"
     },
     "output_type": "display_data"
    }
   ],
   "source": [
    "%matplotlib inline\n",
    "\n",
    "plt.title(\"Losses over epochs\")\n",
    "plt.grid(True)\n",
    "plt.xlabel('1000 Iterations')\n",
    "plt.ylabel('Loss')\n",
    "\n",
    "plt.plot(xvals, disc_losses, '-', label='Disc loss')\n",
    "plt.plot(xvals, gen_losses, '-', label='Gen loss')\n",
    "plt.legend()\n",
    "plt.show()"
   ]
  },
  {
   "cell_type": "markdown",
   "metadata": {},
   "source": [
    "### Generate 10 random people"
   ]
  },
  {
   "cell_type": "code",
   "execution_count": 25,
   "metadata": {},
   "outputs": [
    {
     "name": "stdout",
     "output_type": "stream",
     "text": [
      "36.02839279174805 64.37193298339844 283.5968933105469 1\n",
      "47.380802154541016 70.51559448242188 129.42384338378906 0\n",
      "47.761924743652344 61.440189361572266 149.24972534179688 1\n",
      "55.33895492553711 70.27855682373047 90.15535736083984 0\n",
      "52.409061431884766 48.74726867675781 133.4513397216797 1\n",
      "27.924991607666016 62.08806610107422 101.28564453125 1\n",
      "42.67536926269531 71.06471252441406 231.0632781982422 0\n",
      "37.71642303466797 61.80950164794922 276.104248046875 1\n",
      "19.72756576538086 62.90214538574219 168.377197265625 0\n",
      "49.49778366088867 71.81649017333984 293.7549743652344 1\n"
     ]
    }
   ],
   "source": [
    "for _ in range(10):\n",
    "    p = tensor_to_person(generator(torch.randn(GENERATOR_DIM, requires_grad=False) * 10).detach())\n",
    "    print(p[\"age\"], p[\"height\"], p[\"weight\"], p[\"sex\"])"
   ]
  },
  {
   "cell_type": "markdown",
   "metadata": {},
   "source": [
    "### Create 10000 people in a CSV file"
   ]
  },
  {
   "cell_type": "code",
   "execution_count": 26,
   "metadata": {},
   "outputs": [],
   "source": [
    "import csv\n",
    "from faker import Faker\n",
    "\n",
    "fake = Faker()\n",
    "\n",
    "with open('generated_data_better.csv', mode='w') as csv_file:\n",
    "    fieldnames = ['name', 'age', 'height', 'sex', 'race_teal', 'race_blue', 'race_purple', 'race_green', 'resting_heartrate', 'systolic_blood_pressure', 'diastolic_blood_pressure', 'weight', 'blood_sugar']\n",
    "    writer = csv.DictWriter(csv_file, fieldnames=fieldnames)\n",
    "\n",
    "    writer.writeheader()\n",
    "    for i in range(10000):\n",
    "        p = tensor_to_person(generator(torch.randn(GENERATOR_DIM, requires_grad=False)).detach())\n",
    "        p['name'] = fake.name()\n",
    "        writer.writerow(p)"
   ]
  }
 ],
 "metadata": {
  "kernelspec": {
   "display_name": "Python 3",
   "language": "python",
   "name": "python3"
  },
  "language_info": {
   "codemirror_mode": {
    "name": "ipython",
    "version": 3
   },
   "file_extension": ".py",
   "mimetype": "text/x-python",
   "name": "python",
   "nbconvert_exporter": "python",
   "pygments_lexer": "ipython3",
   "version": "3.6.9"
  }
 },
 "nbformat": 4,
 "nbformat_minor": 4
}
